{
 "cells": [
  {
   "cell_type": "code",
   "execution_count": 4,
   "id": "d47c65fe",
   "metadata": {},
   "outputs": [
    {
     "name": "stdout",
     "output_type": "stream",
     "text": [
      "1064\n"
     ]
    }
   ],
   "source": [
    "from glob import glob\n",
    "import os\n",
    "import glob\n",
    "import re\n",
    "file_dir = '/data1/dataset/rvc2022/depth/datasets_mpi_sintel/train'\n",
    "\n",
    "#/data1/dataset/rvc2022/depth/datasets_mpi_sintel/train/sleeping_2/image_01/0000000017.png \n",
    "#/data1/dataset/rvc2022/depth/datasets_mpi_sintel/train/sleeping_2/proj_depth/groundtruth/image_01/0000000017.png 0\n",
    "\n",
    "\n",
    "f = []\n",
    "f1 = []\n",
    "\n",
    "    \n",
    "f = glob.glob(file_dir + '/*/image_01/*')\n",
    "f1 = glob.glob(file_dir + '/*/proj_depth/groundtruth/image_01/*')\n",
    "\n",
    "    \n",
    "list = []\n",
    "for i in range(len(f)):\n",
    "#     matchObj = re.match( '/data1/dataset/rvc2022/depth/datasets_mpi_sintel/train/(.*)/(.*)/00000000(.*).png', f[i], re.M|re.I)\n",
    "#     list.append(f[i] +\" \"+ file_dir + \"/\" + matchObj.group(1) +'/proj_depth/groundtruth/image_01/frame_00' + matchObj.group(3) + \".dpt\" + \" 0\")\n",
    "    \n",
    "    list.append(f[i].split('/')[7]+ \"/\" + f[i].split('/')[8] + \"/\" + f[i].split('/')[9] + \" \" \n",
    "                + f1[i].split('/')[7] + \"/\" + f1[i].split('/')[8]+ \"/\" + f1[i].split('/')[9] + \"/\" + f1[i].split('/')[10] + \"/\" + f1[i].split('/')[11]\n",
    "                + \" 0\" )\n",
    "print(len(list))\n",
    "\n"
   ]
  },
  {
   "cell_type": "code",
   "execution_count": null,
   "id": "3116bae5",
   "metadata": {},
   "outputs": [],
   "source": [
    "def data_split(full_list, ratio, shuffle=False):\n",
    "    \"\"\"\n",
    "    数据集拆分: 将列表full_list按比例ratio（随机）划分为2个子列表sublist_1与sublist_2\n",
    "    :param full_list: 数据列表\n",
    "    :param ratio:     子列表1\n",
    "    :param shuffle:   子列表2\n",
    "    :return:\n",
    "    \"\"\"\n",
    "    n_total = len(full_list)\n",
    "    offset = int(n_total * ratio)\n",
    "    if n_total == 0 or offset < 1:\n",
    "        return [], full_list\n",
    "    if shuffle:\n",
    "        random.shuffle(full_list)\n",
    "    sublist_1 = full_list[:offset]\n",
    "    sublist_2 = full_list[offset:]\n",
    "    return sublist_1, sublist_2\n",
    " \n",
    "sub_data1, sub_data2 = data_split(list, ratio=0, shuffle=True)\n",
    "\n",
    "\n",
    "file2 = open(\"sintel_train_all.txt\", \"w\")\n",
    "for i in range(len(sub_data2)):\n",
    "    file2.write(sub_data2[i]+ \"\\n\")\n",
    "file2.close()"
   ]
  }
 ],
 "metadata": {
  "kernelspec": {
   "display_name": "Python 3 (ipykernel)",
   "language": "python",
   "name": "python3"
  },
  "language_info": {
   "codemirror_mode": {
    "name": "ipython",
    "version": 3
   },
   "file_extension": ".py",
   "mimetype": "text/x-python",
   "name": "python",
   "nbconvert_exporter": "python",
   "pygments_lexer": "ipython3",
   "version": "3.7.13"
  }
 },
 "nbformat": 4,
 "nbformat_minor": 5
}
