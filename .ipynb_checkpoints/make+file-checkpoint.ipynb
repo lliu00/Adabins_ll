{
 "cells": [
  {
   "cell_type": "code",
   "execution_count": 7,
   "id": "b2a2490c",
   "metadata": {},
   "outputs": [],
   "source": [
    "from glob import glob\n",
    "import os\n",
    "import glob\n",
    "import re\n",
    "file_dir = '/data1/dataset/rvc2022/depth/datasets_mpi_sintel/train'\n",
    "\n",
    "#/data1/dataset/rvc2022/depth/datasets_mpi_sintel/train/sleeping_2/image_01/0000000017.png \n",
    "#/data1/dataset/rvc2022/depth/datasets_mpi_sintel/train/sleeping_2/proj_depth/groundtruth/image_01/0000000017.png 0\n",
    "\n",
    "# def getFlist(path):\n",
    "#     for root, dirs, files in os.walk(file_dir):\n",
    "#         print('root_dir:', root)  \n",
    "#         print('sub_dirs:', dirs)  \n",
    "#         print('files:', files)     \n",
    "#     return files\n",
    "# file_name = getFlist(file_dir)\n",
    "\n",
    "#移除sleeping_1, shaman_3, ambush_7 三个文件夹\n",
    "dir_list = []\n",
    "dir_list = glob.glob(file_dir + '/*')\n",
    "dirList = []\n",
    "for i in range(len(dir_list)):\n",
    "    dirList.append(dir_list[i].split('/')[7])\n",
    "\n",
    "\n",
    "dirList.remove('shaman_3')\n",
    "\n",
    "dirList.remove('ambush_7')\n",
    "dirList.remove('sleeping_1')\n",
    "\n",
    "f = []\n",
    "f1 = []\n",
    "for i in range(len(dirList)):\n",
    "    #正常情况\n",
    "#     f = glob.glob(file_dir + '/*/image_01/*')\n",
    "#     f1 = glob.glob(file_dir + '/*/proj_depth/groundtruth/image_01/*')\n",
    "\n",
    "    f_list = glob.glob(file_dir + '/'+ dirList[i] + '/image_01/*')\n",
    "    f.extend(f_list)\n",
    "    f1_list = glob.glob(file_dir + '/'+ dirList[i] +'/proj_depth/groundtruth/image_01/*')\n",
    "    f1.extend(f1_list)\n",
    "    \n",
    "list = []\n",
    "for i in range(len(f)):\n",
    "#     matchObj = re.match( '/data1/dataset/rvc2022/depth/datasets_mpi_sintel/train/(.*)/(.*)/00000000(.*).png', f[i], re.M|re.I)\n",
    "#     list.append(f[i] +\" \"+ file_dir + \"/\" + matchObj.group(1) +'/proj_depth/groundtruth/image_01/frame_00' + matchObj.group(3) + \".dpt\" + \" 0\")\n",
    "    \n",
    "    list.append(f[i].split('/')[7]+ \"/\" + f[i].split('/')[8] + \"/\" + f[i].split('/')[9] + \" \" \n",
    "                + f1[i].split('/')[7] + \"/\" + f1[i].split('/')[8]+ \"/\" + f1[i].split('/')[9] + \"/\" + f1[i].split('/')[10] + \"/\" + f1[i].split('/')[11]\n",
    "                + \" 0\" )\n",
    "\n",
    "#------------------------------------------------------------------------------------------------------------------------------new\n",
    "validate_dirList = ['shaman_3', 'sleeping_1', 'ambush_7']\n",
    "f2 = []\n",
    "f3 = []\n",
    "for i in range(len(validate_dirList)):\n",
    "    #正常情况\n",
    "#     f = glob.glob(file_dir + '/*/image_01/*')\n",
    "#     f1 = glob.glob(file_dir + '/*/proj_depth/groundtruth/image_01/*')\n",
    "\n",
    "    f2_list = glob.glob(file_dir + '/'+ validate_dirList[i] + '/image_01/*')\n",
    "    f2.extend(f2_list)\n",
    "    f3_list = glob.glob(file_dir + '/'+ validate_dirList[i] +'/proj_depth/groundtruth/image_01/*')\n",
    "    f3.extend(f3_list)\n",
    "    \n",
    "list_validate = []\n",
    "\n",
    "\n",
    "\n",
    "for i in range(len(f2)):\n",
    "#     matchObj = re.match( '/data1/dataset/rvc2022/depth/datasets_mpi_sintel/train/(.*)/(.*)/00000000(.*).png', f[i], re.M|re.I)\n",
    "#     list.append(f[i] +\" \"+ file_dir + \"/\" + matchObj.group(1) +'/proj_depth/groundtruth/image_01/frame_00' + matchObj.group(3) + \".dpt\" + \" 0\")\n",
    "    \n",
    "    list_validate.append(f2[i].split('/')[7]+ \"/\" + f2[i].split('/')[8] + \"/\" + f2[i].split('/')[9] + \" \" \n",
    "                + f3[i].split('/')[7]+ \"/\"+ f3[i].split('/')[8]+ \"/\" + f3[i].split('/')[9] + \"/\" + f3[i].split('/')[10] + \"/\" + f3[i].split('/')[11]\n",
    "                + \" 0\" )\n",
    "\n",
    "\n",
    "file = open(\"sintel_eval_2.txt\", \"w\")\n",
    "for i in range(len(list_validate)):\n",
    "    file.write(list_validate[i] + \"\\n\")\n",
    "\n",
    "#-------------------------------------------------------------------------------------------------------------------------------\n",
    "# file2 = open(\"mpi_sintel_train.txt\", \"w\")\n",
    "# for i in range(len(list)):\n",
    "#     file2.write(list[i] + \"\\n\")\n",
    "# file2.close()\n",
    "# matchObj = re.match( '/data1/dataset/rvc2022/depth/datasets_mpi_sintel/train/(.*)/(.*)/00000000(.*).png', f[0], re.M|re.I)\n",
    "# print(file_dir + \"/\" + matchObj.group(1) +'/proj_depth/groundtruth/image_01_dpt/frame_00' + matchObj.group(3) + \".dpt\")\n",
    "\n"
   ]
  },
  {
   "cell_type": "code",
   "execution_count": 16,
   "id": "eac1f87e",
   "metadata": {},
   "outputs": [
    {
     "name": "stdout",
     "output_type": "stream",
     "text": [
      "ambush_2\n"
     ]
    }
   ],
   "source": [
    "import re\n",
    "matchObj = re.match( '/data1/dataset/rvc2022/depth/datasets_mpi_sintel/train/(.*)/(.*)/00000000(.*).png', f[0], re.M|re.I)\n",
    "matchObj.group(1)\n",
    "print(matchObj.group(1))"
   ]
  },
  {
   "cell_type": "code",
   "execution_count": 8,
   "id": "8c1a8e69",
   "metadata": {},
   "outputs": [
    {
     "name": "stdout",
     "output_type": "stream",
     "text": [
      "is everything ok?\n",
      "ok\n"
     ]
    }
   ],
   "source": [
    "import random\n",
    " \n",
    " \n",
    "def data_split(full_list, ratio, shuffle=False):\n",
    "    \"\"\"\n",
    "    数据集拆分: 将列表full_list按比例ratio（随机）划分为2个子列表sublist_1与sublist_2\n",
    "    :param full_list: 数据列表\n",
    "    :param ratio:     子列表1\n",
    "    :param shuffle:   子列表2\n",
    "    :return:\n",
    "    \"\"\"\n",
    "    n_total = len(full_list)\n",
    "    offset = int(n_total * ratio)\n",
    "    if n_total == 0 or offset < 1:\n",
    "        return [], full_list\n",
    "    if shuffle:\n",
    "        random.shuffle(full_list)\n",
    "    sublist_1 = full_list[:offset]\n",
    "    sublist_2 = full_list[offset:]\n",
    "    return sublist_1, sublist_2\n",
    " \n",
    "sub_data1, sub_data2 = data_split(list, ratio=0, shuffle=True)\n",
    "\n",
    "# file = open(\"sintel_eval_2.txt\", \"w\")\n",
    "# for i in range(len(sub_data2)):\n",
    "#     file.write(sub_data2[i] + \"\\n\")\n",
    "# file.close()\n",
    "#-----------------------------------\n",
    "for i in range(len(sub_data2)):\n",
    "    file.write(sub_data2[i] + \"\\n\")\n",
    "file.close()\n",
    "#------------------------------------\n",
    "print(\"is everything ok?\")\n",
    "file2 = open(\"sintel_train_all.txt\", \"w\")\n",
    "for i in range(len(sub_data1)):\n",
    "    file2.write(sub_data1[i] + \"\\n\")\n",
    "file2.close()\n",
    "print('ok')"
   ]
  },
  {
   "cell_type": "code",
   "execution_count": 7,
   "id": "ff2c9b19",
   "metadata": {},
   "outputs": [
    {
     "name": "stdout",
     "output_type": "stream",
     "text": [
      "[[4.301961  4.3137255 4.32549   ... 2.4156864 2.4156864 2.4156864]\n",
      " [4.3058825 4.317647  4.32549   ... 2.4235294 2.4235294 2.4235294]\n",
      " [4.3058825 4.317647  4.329412  ... 2.4313726 2.4313726 2.4313726]\n",
      " ...\n",
      " [0.9764706 0.9764706 0.9764706 ... 1.3254902 1.3254902 1.3254902]\n",
      " [0.9764706 0.9764706 0.9764706 ... 1.3254902 1.3254902 1.3254902]\n",
      " [0.9764706 0.9764706 0.9764706 ... 1.3254902 1.3254902 1.3215686]]\n",
      "[[4.2885675  4.2994914  4.3104715  ... 2.4097912  2.4089475  2.4081044 ]\n",
      " [4.2900953  4.3010273  4.312015   ... 2.4168427  2.4159942  2.4151459 ]\n",
      " [4.2916245  4.302564   4.31356    ... 2.4239357  2.423082   2.4222288 ]\n",
      " ...\n",
      " [0.9727996  0.9742409  0.9756865  ... 1.3231939  1.322131   1.32107   ]\n",
      " [0.9727376  0.9741788  0.9756242  ... 1.3226074  1.3215457  1.3204854 ]\n",
      " [0.97267574 0.9741166  0.9755618  ... 1.3220216  1.3209608  1.3199013 ]]\n"
     ]
    },
    {
     "data": {
      "text/plain": [
       "Text(0.5, 1.0, 'depth')"
      ]
     },
     "execution_count": 7,
     "metadata": {},
     "output_type": "execute_result"
    },
    {
     "data": {
      "image/png": "[encoded data removed]",
      "text/plain": [
       "<Figure size 432x288 with 1 Axes>"
      ]
     },
     "metadata": {
      "needs_background": "light"
     },
     "output_type": "display_data"
    }
   ],
   "source": [
    "from PIL import Image\n",
    "import sintel_io\n",
    "from matplotlib import pyplot as plt\n",
    "import numpy as np\n",
    "\n",
    "depth_path = '/data1/dataset/rvc2022/depth/datasets_mpi_sintel/train/market_6/proj_depth/groundtruth/image_01_dpt/frame_0040.dpt'  \n",
    "image_path = '/data1/dataset/rvc2022/depth/datasets_mpi_sintel/train/market_6/proj_depth/groundtruth/image_01/0000000040.png'\n",
    "\n",
    "\n",
    "image = Image.open(image_path)\n",
    "image = np.asarray(image, dtype=np.float32) / 255.0\n",
    "print(image)\n",
    "\n",
    "# height = image.height\n",
    "# width = image.width\n",
    "# top_margin = int(height - 352)\n",
    "# left_margin = int((width - 1000) / 2)\n",
    "# depth_gt = depth_gt.crop((left_margin, top_margin, left_margin + 1000, top_margin + 352))\n",
    "# image = image.crop((left_margin, top_margin, left_margin + 1000, top_margin + 352))\n",
    "\n",
    "# plt.subplot(323)\n",
    "# plt.imshow(depth_gt,cmap='gray')\n",
    "# plt.title('depth')\n",
    "\n",
    "deptp_gt_np = sintel_io.depth_read(depth_path)\n",
    "\n",
    "# depth_gt = np.expand_dims(depth_gt, axis=2)\n",
    "# depth_gt = depth_gt / 256.0\n",
    "print(deptp_gt_np)\n",
    "\n",
    "# depth_gt = Image.fromarray(sintel_io.depth_read(depth_path))\n",
    "# depth_gt = np.asarray(depth_gt, dtype=np.float32)\n",
    "# print(depth_gt)"
   ]
  },
  {
   "cell_type": "code",
   "execution_count": 122,
   "id": "83354f2b",
   "metadata": {},
   "outputs": [],
   "source": [
    "file_dir = '/data1/dataset/mpi_sintel_test/test'\n",
    "\n",
    "f = glob.glob(file_dir + '/clean/*/*')\n",
    "file_test = open(\"foo_test.txt\", \"w\")\n",
    "for i in range(len(f)):\n",
    "    file_test.write(f[i] + \" None \" + \"1\" + '\\n')\n",
    "\n",
    "\n",
    "f = glob.glob(file_dir + '/final/*/*')\n",
    "\n",
    "for i in range(len(f)):\n",
    "    file_test.write(f[i] + \" None \" + \"1\" + '\\n')\n",
    "file_test.close()"
   ]
  },
  {
   "cell_type": "code",
   "execution_count": 2,
   "id": "0f749c83",
   "metadata": {},
   "outputs": [
    {
     "name": "stdout",
     "output_type": "stream",
     "text": [
      "475037696\n"
     ]
    },
    {
     "data": {
      "image/png": "[encoded data removed]",
      "text/plain": [
       "<Figure size 1600x640 with 1 Axes>"
      ]
     },
     "metadata": {
      "needs_background": "light"
     },
     "output_type": "display_data"
    }
   ],
   "source": [
    "from matplotlib import pyplot as plt\n",
    "from matplotlib import font_manager\n",
    "from PIL import Image\n",
    "from glob import glob\n",
    "import os\n",
    "import glob\n",
    "import numpy as np\n",
    "depth_path_list = glob.glob('/data1/dataset/rvc2022/depth/datasets_mpi_sintel/train/*/proj_depth/groundtruth/image_01/*.png')\n",
    "a = []\n",
    "\n",
    "for i in range(int(len(depth_path_list))):\n",
    "    image = Image.open(depth_path_list[i])\n",
    "    image = np.asarray(image, dtype=np.float32) / 255.0\n",
    "    a.extend(image)\n",
    "#     a = np.array([a, image])\n",
    "\n",
    "a = np.array(a)\n",
    "a = a.flatten()\n",
    "print(len(a))\n",
    "# print(max(a)-min(a))\n",
    "# d = 10\n",
    "# num_bins = (max(a)-min(a))//d\n",
    "# plt.figure(figsize=(20,8),dpi=80)\n",
    "# plt.hist(a,100,density=True)\n",
    "# plt.xticks(range(min(a),max(a)+d,d))\n",
    "\n",
    "# plt.grid(alpha=0.4)\n",
    "# plt.show()\n",
    "plt.figure(figsize=(20,8),dpi=80)\n",
    "n, bins, patches = plt.hist(a, 50, density=True, facecolor='g', alpha=0.75)\n",
    "\n",
    "\n",
    "plt.xlabel('Depth')\n",
    "\n",
    "plt.ylabel('Probability')\n",
    "\n",
    "plt.title('Train')\n",
    "\n",
    "# plt.text(60, .025, r'$\\mu=100,\\ \\sigma=15$')\n",
    "\n",
    "plt.axis([-10, 120, 0, 0.6])\n",
    "\n",
    "plt.grid(True)\n",
    "\n",
    "plt.show()"
   ]
  },
  {
   "cell_type": "code",
   "execution_count": 1,
   "id": "ebdf69e2",
   "metadata": {},
   "outputs": [],
   "source": [
    "import numpy as np\n",
    "from PIL import Image\n",
    "\n",
    "ar = np.ones((32, 32), dtype=np.uint16)\n",
    "im = Image.fromarray(ar)\n",
    "im.save('foo.png')"
   ]
  },
  {
   "cell_type": "code",
   "execution_count": 1,
   "id": "9faae2a0",
   "metadata": {},
   "outputs": [
    {
     "name": "stdout",
     "output_type": "stream",
     "text": [
      "hello\n"
     ]
    }
   ],
   "source": [
    "print(\"hello\")"
   ]
  },
  {
   "cell_type": "code",
   "execution_count": null,
   "id": "b8180d07",
   "metadata": {},
   "outputs": [],
   "source": []
  }
 ],
 "metadata": {
  "kernelspec": {
   "display_name": "Python 3 (ipykernel)",
   "language": "python",
   "name": "python3"
  },
  "language_info": {
   "codemirror_mode": {
    "name": "ipython",
    "version": 3
   },
   "file_extension": ".py",
   "mimetype": "text/x-python",
   "name": "python",
   "nbconvert_exporter": "python",
   "pygments_lexer": "ipython3",
   "version": "3.7.13"
  }
 },
 "nbformat": 4,
 "nbformat_minor": 5
}
